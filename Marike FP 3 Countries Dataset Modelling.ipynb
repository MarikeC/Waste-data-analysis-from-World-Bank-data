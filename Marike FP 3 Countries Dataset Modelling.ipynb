{
 "cells": [
  {
   "cell_type": "markdown",
   "metadata": {},
   "source": [
    "## 3. Waste generation prediction"
   ]
  },
  {
   "cell_type": "code",
   "execution_count": 1,
   "metadata": {},
   "outputs": [
    {
     "data": {
      "text/html": [
       "        <script type=\"text/javascript\">\n",
       "        window.PlotlyConfig = {MathJaxConfig: 'local'};\n",
       "        if (window.MathJax) {MathJax.Hub.Config({SVG: {font: \"STIX-Web\"}});}\n",
       "        if (typeof require !== 'undefined') {\n",
       "        require.undef(\"plotly\");\n",
       "        requirejs.config({\n",
       "            paths: {\n",
       "                'plotly': ['https://cdn.plot.ly/plotly-latest.min']\n",
       "            }\n",
       "        });\n",
       "        require(['plotly'], function(Plotly) {\n",
       "            window._Plotly = Plotly;\n",
       "        });\n",
       "        }\n",
       "        </script>\n",
       "        "
      ]
     },
     "metadata": {},
     "output_type": "display_data"
    }
   ],
   "source": [
    "#we call the required functions for our analysis\n",
    "import pandas as pd\n",
    "import numpy as np\n",
    "import seaborn as sns\n",
    "import matplotlib\n",
    "import matplotlib.pyplot as plt\n",
    "import os\n",
    "import pandas_datareader as dr\n",
    "import plotly.offline as py\n",
    "import plotly.tools as tls\n",
    "import plotly.graph_objects as go\n",
    "import plotly.express as px\n",
    "\n",
    "from MC_FP_UsefulFunctions import *\n",
    "\n",
    "import warnings\n",
    "warnings.filterwarnings(\"ignore\")\n",
    "\n",
    "import sys\n",
    "from IPython.display import display\n",
    "from sklearn.model_selection import train_test_split\n",
    "\n",
    "%matplotlib inline\n",
    "py.init_notebook_mode(connected=True)"
   ]
  },
  {
   "cell_type": "code",
   "execution_count": 2,
   "metadata": {},
   "outputs": [],
   "source": [
    "os.chdir(r'/Users/marike/Documents/MARIKE/DATA SCIENCE/Final project/Waste data')"
   ]
  },
  {
   "cell_type": "code",
   "execution_count": null,
   "metadata": {},
   "outputs": [],
   "source": []
  },
  {
   "cell_type": "code",
   "execution_count": 3,
   "metadata": {},
   "outputs": [],
   "source": [
    "countries_df_model_path = r'CountriesDFforModelling.csv'\n",
    "countries_waste_model = pd.read_csv(countries_df_model_path)\n",
    "countries_df_model_allvar_path = r'CountriesDF_model_allvariables.csv'\n",
    "countries_waste_allvar = pd.read_csv(countries_df_model_allvar_path)"
   ]
  },
  {
   "cell_type": "code",
   "execution_count": 4,
   "metadata": {},
   "outputs": [
    {
     "data": {
      "text/html": [
       "<div>\n",
       "<style scoped>\n",
       "    .dataframe tbody tr th:only-of-type {\n",
       "        vertical-align: middle;\n",
       "    }\n",
       "\n",
       "    .dataframe tbody tr th {\n",
       "        vertical-align: top;\n",
       "    }\n",
       "\n",
       "    .dataframe thead th {\n",
       "        text-align: right;\n",
       "    }\n",
       "</style>\n",
       "<table border=\"1\" class=\"dataframe\">\n",
       "  <thead>\n",
       "    <tr style=\"text-align: right;\">\n",
       "      <th></th>\n",
       "      <th>WasteLog</th>\n",
       "      <th>gdp_inhab_log</th>\n",
       "      <th>region</th>\n",
       "    </tr>\n",
       "  </thead>\n",
       "  <tbody>\n",
       "    <tr>\n",
       "      <td>0</td>\n",
       "      <td>6.751218</td>\n",
       "      <td>10.488395</td>\n",
       "      <td>2</td>\n",
       "    </tr>\n",
       "    <tr>\n",
       "      <td>1</td>\n",
       "      <td>5.096262</td>\n",
       "      <td>6.427928</td>\n",
       "      <td>5</td>\n",
       "    </tr>\n",
       "    <tr>\n",
       "      <td>2</td>\n",
       "      <td>5.129307</td>\n",
       "      <td>8.320424</td>\n",
       "      <td>6</td>\n",
       "    </tr>\n",
       "    <tr>\n",
       "      <td>3</td>\n",
       "      <td>5.985874</td>\n",
       "      <td>8.450481</td>\n",
       "      <td>1</td>\n",
       "    </tr>\n",
       "    <tr>\n",
       "      <td>4</td>\n",
       "      <td>6.258912</td>\n",
       "      <td>10.603503</td>\n",
       "      <td>1</td>\n",
       "    </tr>\n",
       "  </tbody>\n",
       "</table>\n",
       "</div>"
      ],
      "text/plain": [
       "   WasteLog  gdp_inhab_log  region\n",
       "0  6.751218      10.488395       2\n",
       "1  5.096262       6.427928       5\n",
       "2  5.129307       8.320424       6\n",
       "3  5.985874       8.450481       1\n",
       "4  6.258912      10.603503       1"
      ]
     },
     "execution_count": 4,
     "metadata": {},
     "output_type": "execute_result"
    }
   ],
   "source": [
    "countries_waste_model.head()"
   ]
  },
  {
   "cell_type": "code",
   "execution_count": 5,
   "metadata": {},
   "outputs": [
    {
     "data": {
      "text/html": [
       "<div>\n",
       "<style scoped>\n",
       "    .dataframe tbody tr th:only-of-type {\n",
       "        vertical-align: middle;\n",
       "    }\n",
       "\n",
       "    .dataframe tbody tr th {\n",
       "        vertical-align: top;\n",
       "    }\n",
       "\n",
       "    .dataframe thead th {\n",
       "        text-align: right;\n",
       "    }\n",
       "</style>\n",
       "<table border=\"1\" class=\"dataframe\">\n",
       "  <thead>\n",
       "    <tr style=\"text-align: right;\">\n",
       "      <th></th>\n",
       "      <th>info_system_SW_mgmt</th>\n",
       "      <th>national_waste_agency</th>\n",
       "      <th>national_law_for_SW_mgmt</th>\n",
       "      <th>PPP_rules_and_regulations</th>\n",
       "      <th>compost_percent</th>\n",
       "      <th>recycling_percent</th>\n",
       "      <th>WasteLog</th>\n",
       "      <th>PopLog</th>\n",
       "      <th>gdp_inhab_log</th>\n",
       "      <th>region</th>\n",
       "      <th>income</th>\n",
       "    </tr>\n",
       "  </thead>\n",
       "  <tbody>\n",
       "    <tr>\n",
       "      <td>0</td>\n",
       "      <td>0</td>\n",
       "      <td>1</td>\n",
       "      <td>1</td>\n",
       "      <td>1</td>\n",
       "      <td>0.0</td>\n",
       "      <td>11.0</td>\n",
       "      <td>6.751218</td>\n",
       "      <td>11.544308</td>\n",
       "      <td>10.488395</td>\n",
       "      <td>2</td>\n",
       "      <td>0</td>\n",
       "    </tr>\n",
       "    <tr>\n",
       "      <td>1</td>\n",
       "      <td>0</td>\n",
       "      <td>1</td>\n",
       "      <td>1</td>\n",
       "      <td>1</td>\n",
       "      <td>0.0</td>\n",
       "      <td>0.0</td>\n",
       "      <td>5.096262</td>\n",
       "      <td>17.360982</td>\n",
       "      <td>6.427928</td>\n",
       "      <td>5</td>\n",
       "      <td>1</td>\n",
       "    </tr>\n",
       "    <tr>\n",
       "      <td>2</td>\n",
       "      <td>0</td>\n",
       "      <td>0</td>\n",
       "      <td>1</td>\n",
       "      <td>1</td>\n",
       "      <td>0.0</td>\n",
       "      <td>0.0</td>\n",
       "      <td>5.129307</td>\n",
       "      <td>17.038225</td>\n",
       "      <td>8.320424</td>\n",
       "      <td>6</td>\n",
       "      <td>2</td>\n",
       "    </tr>\n",
       "    <tr>\n",
       "      <td>3</td>\n",
       "      <td>0</td>\n",
       "      <td>1</td>\n",
       "      <td>1</td>\n",
       "      <td>1</td>\n",
       "      <td>0.0</td>\n",
       "      <td>0.0</td>\n",
       "      <td>5.985874</td>\n",
       "      <td>14.873545</td>\n",
       "      <td>8.450481</td>\n",
       "      <td>1</td>\n",
       "      <td>3</td>\n",
       "    </tr>\n",
       "    <tr>\n",
       "      <td>4</td>\n",
       "      <td>0</td>\n",
       "      <td>1</td>\n",
       "      <td>1</td>\n",
       "      <td>1</td>\n",
       "      <td>0.0</td>\n",
       "      <td>0.0</td>\n",
       "      <td>6.258912</td>\n",
       "      <td>11.319729</td>\n",
       "      <td>10.603503</td>\n",
       "      <td>1</td>\n",
       "      <td>0</td>\n",
       "    </tr>\n",
       "  </tbody>\n",
       "</table>\n",
       "</div>"
      ],
      "text/plain": [
       "   info_system_SW_mgmt  national_waste_agency  national_law_for_SW_mgmt  \\\n",
       "0                    0                      1                         1   \n",
       "1                    0                      1                         1   \n",
       "2                    0                      0                         1   \n",
       "3                    0                      1                         1   \n",
       "4                    0                      1                         1   \n",
       "\n",
       "   PPP_rules_and_regulations  compost_percent  recycling_percent  WasteLog  \\\n",
       "0                          1              0.0               11.0  6.751218   \n",
       "1                          1              0.0                0.0  5.096262   \n",
       "2                          1              0.0                0.0  5.129307   \n",
       "3                          1              0.0                0.0  5.985874   \n",
       "4                          1              0.0                0.0  6.258912   \n",
       "\n",
       "      PopLog  gdp_inhab_log  region  income  \n",
       "0  11.544308      10.488395       2       0  \n",
       "1  17.360982       6.427928       5       1  \n",
       "2  17.038225       8.320424       6       2  \n",
       "3  14.873545       8.450481       1       3  \n",
       "4  11.319729      10.603503       1       0  "
      ]
     },
     "execution_count": 5,
     "metadata": {},
     "output_type": "execute_result"
    }
   ],
   "source": [
    "countries_waste_allvar.head()"
   ]
  },
  {
   "cell_type": "code",
   "execution_count": 6,
   "metadata": {},
   "outputs": [
    {
     "name": "stdout",
     "output_type": "stream",
     "text": [
      "<class 'pandas.core.frame.DataFrame'>\n",
      "RangeIndex: 215 entries, 0 to 214\n",
      "Data columns (total 3 columns):\n",
      "WasteLog         215 non-null float64\n",
      "gdp_inhab_log    215 non-null float64\n",
      "region           215 non-null int64\n",
      "dtypes: float64(2), int64(1)\n",
      "memory usage: 5.2 KB\n"
     ]
    }
   ],
   "source": [
    "countries_waste_model.info()"
   ]
  },
  {
   "cell_type": "markdown",
   "metadata": {},
   "source": [
    "- The dataset does not include time or object.\n",
    "- There is no null value in dataset."
   ]
  },
  {
   "cell_type": "code",
   "execution_count": 7,
   "metadata": {},
   "outputs": [],
   "source": [
    "# We define a seed for reproducibility of random functions\n",
    "SEED = 12\n",
    "np.random.seed(SEED)"
   ]
  },
  {
   "cell_type": "code",
   "execution_count": 8,
   "metadata": {},
   "outputs": [
    {
     "data": {
      "text/plain": [
       "Index(['WasteLog', 'gdp_inhab_log', 'region'], dtype='object')"
      ]
     },
     "execution_count": 8,
     "metadata": {},
     "output_type": "execute_result"
    }
   ],
   "source": [
    "countries_waste_model.columns"
   ]
  },
  {
   "cell_type": "code",
   "execution_count": 9,
   "metadata": {},
   "outputs": [
    {
     "data": {
      "text/plain": [
       "Index(['info_system_SW_mgmt', 'national_waste_agency',\n",
       "       'national_law_for_SW_mgmt', 'PPP_rules_and_regulations',\n",
       "       'compost_percent', 'recycling_percent', 'WasteLog', 'PopLog',\n",
       "       'gdp_inhab_log', 'region', 'income'],\n",
       "      dtype='object')"
      ]
     },
     "execution_count": 9,
     "metadata": {},
     "output_type": "execute_result"
    }
   ],
   "source": [
    "countries_waste_allvar.columns"
   ]
  },
  {
   "cell_type": "code",
   "execution_count": 10,
   "metadata": {},
   "outputs": [],
   "source": [
    "from pandas import set_option\n",
    "from sklearn.preprocessing import StandardScaler\n",
    "from sklearn.model_selection import train_test_split\n",
    "from sklearn.model_selection import KFold\n",
    "from sklearn.model_selection import StratifiedKFold\n",
    "from sklearn.model_selection import cross_val_score\n",
    "from sklearn.model_selection import GridSearchCV\n",
    "from sklearn.metrics import classification_report\n",
    "from sklearn.metrics import confusion_matrix\n",
    "from sklearn.metrics import accuracy_score\n",
    "from sklearn.pipeline import Pipeline\n",
    "from sklearn.linear_model import LogisticRegression\n",
    "from sklearn.tree import DecisionTreeClassifier\n",
    "from sklearn.neighbors import KNeighborsClassifier\n",
    "from sklearn.discriminant_analysis import LinearDiscriminantAnalysis\n",
    "from sklearn.naive_bayes import GaussianNB\n",
    "from sklearn.svm import SVC\n",
    "from sklearn.ensemble import AdaBoostClassifier\n",
    "from sklearn.ensemble import GradientBoostingClassifier, VotingClassifier\n",
    "from sklearn.ensemble import RandomForestClassifier\n",
    "from sklearn.ensemble import ExtraTreesClassifier\n",
    "\n",
    "from sklearn import linear_model\n",
    "from sklearn.model_selection import train_test_split\n",
    "from sklearn.metrics import mean_squared_error\n",
    "from sklearn.linear_model import LinearRegression\n",
    "from sklearn.preprocessing import PolynomialFeatures\n",
    "from sklearn import metrics\n",
    "from sklearn.metrics import r2_score"
   ]
  },
  {
   "cell_type": "markdown",
   "metadata": {},
   "source": [
    "### Model building: Baseline models = starting point"
   ]
  },
  {
   "cell_type": "markdown",
   "metadata": {},
   "source": [
    "<img src=\"https://i.ibb.co/7CXqJmT/validation.png\" alt=\"validation\" data-load=\"full\" style=\"\" width=\"733\" height=\"576\">"
   ]
  },
  {
   "cell_type": "markdown",
   "metadata": {},
   "source": [
    "**LINEAR REGRESSION WITH GDP AND REGION VARIABLES:**"
   ]
  },
  {
   "cell_type": "code",
   "execution_count": 11,
   "metadata": {},
   "outputs": [],
   "source": [
    "X =  countries_waste_model.drop('WasteLog', axis=1)\n",
    "y = countries_waste_model.WasteLog\n",
    "\n",
    "X_train, X_test, y_train, y_test =train_test_split(X,y,test_size=0.3,random_state=42)\n"
   ]
  },
  {
   "cell_type": "code",
   "execution_count": 12,
   "metadata": {},
   "outputs": [
    {
     "data": {
      "text/html": [
       "<div>\n",
       "<style scoped>\n",
       "    .dataframe tbody tr th:only-of-type {\n",
       "        vertical-align: middle;\n",
       "    }\n",
       "\n",
       "    .dataframe tbody tr th {\n",
       "        vertical-align: top;\n",
       "    }\n",
       "\n",
       "    .dataframe thead th {\n",
       "        text-align: right;\n",
       "    }\n",
       "</style>\n",
       "<table border=\"1\" class=\"dataframe\">\n",
       "  <thead>\n",
       "    <tr style=\"text-align: right;\">\n",
       "      <th></th>\n",
       "      <th>gdp_inhab_log</th>\n",
       "      <th>region</th>\n",
       "    </tr>\n",
       "  </thead>\n",
       "  <tbody>\n",
       "    <tr>\n",
       "      <td>0</td>\n",
       "      <td>10.488395</td>\n",
       "      <td>2</td>\n",
       "    </tr>\n",
       "    <tr>\n",
       "      <td>1</td>\n",
       "      <td>6.427928</td>\n",
       "      <td>5</td>\n",
       "    </tr>\n",
       "    <tr>\n",
       "      <td>2</td>\n",
       "      <td>8.320424</td>\n",
       "      <td>6</td>\n",
       "    </tr>\n",
       "    <tr>\n",
       "      <td>3</td>\n",
       "      <td>8.450481</td>\n",
       "      <td>1</td>\n",
       "    </tr>\n",
       "    <tr>\n",
       "      <td>4</td>\n",
       "      <td>10.603503</td>\n",
       "      <td>1</td>\n",
       "    </tr>\n",
       "    <tr>\n",
       "      <td>...</td>\n",
       "      <td>...</td>\n",
       "      <td>...</td>\n",
       "    </tr>\n",
       "    <tr>\n",
       "      <td>210</td>\n",
       "      <td>8.283431</td>\n",
       "      <td>1</td>\n",
       "    </tr>\n",
       "    <tr>\n",
       "      <td>211</td>\n",
       "      <td>6.071638</td>\n",
       "      <td>3</td>\n",
       "    </tr>\n",
       "    <tr>\n",
       "      <td>212</td>\n",
       "      <td>9.004981</td>\n",
       "      <td>6</td>\n",
       "    </tr>\n",
       "    <tr>\n",
       "      <td>213</td>\n",
       "      <td>7.547702</td>\n",
       "      <td>6</td>\n",
       "    </tr>\n",
       "    <tr>\n",
       "      <td>214</td>\n",
       "      <td>7.078738</td>\n",
       "      <td>6</td>\n",
       "    </tr>\n",
       "  </tbody>\n",
       "</table>\n",
       "<p>215 rows × 2 columns</p>\n",
       "</div>"
      ],
      "text/plain": [
       "     gdp_inhab_log  region\n",
       "0        10.488395       2\n",
       "1         6.427928       5\n",
       "2         8.320424       6\n",
       "3         8.450481       1\n",
       "4        10.603503       1\n",
       "..             ...     ...\n",
       "210       8.283431       1\n",
       "211       6.071638       3\n",
       "212       9.004981       6\n",
       "213       7.547702       6\n",
       "214       7.078738       6\n",
       "\n",
       "[215 rows x 2 columns]"
      ]
     },
     "execution_count": 12,
     "metadata": {},
     "output_type": "execute_result"
    }
   ],
   "source": [
    "X"
   ]
  },
  {
   "cell_type": "code",
   "execution_count": 13,
   "metadata": {},
   "outputs": [
    {
     "data": {
      "text/plain": [
       "LinearRegression(copy_X=True, fit_intercept=True, n_jobs=None, normalize=False)"
      ]
     },
     "execution_count": 13,
     "metadata": {},
     "output_type": "execute_result"
    }
   ],
   "source": [
    "from sklearn.linear_model import LinearRegression\n",
    "mReg = LinearRegression()\n",
    "mReg.fit(X_train, y_train)"
   ]
  },
  {
   "cell_type": "code",
   "execution_count": 14,
   "metadata": {},
   "outputs": [],
   "source": [
    "y_pred = mReg.predict(X_test)\n",
    "y_pred = np.round_(y_pred)\n",
    "\n",
    "y_predTrain = mReg.predict(X_train)"
   ]
  },
  {
   "cell_type": "code",
   "execution_count": 15,
   "metadata": {},
   "outputs": [
    {
     "name": "stdout",
     "output_type": "stream",
     "text": [
      "Shape of the raw data (X): (215, 2)\n",
      "Shape of the TARGET variable (y): (215,)\n",
      "\n",
      "Shape of the Train data (X_train): (150, 2)\n",
      "Shape of the Train data (y_train): (150,)\n",
      "\n",
      "Shape of the Test data (X_test): (65, 2)\n",
      "Shape of the Test data (y_test): (65,)\n"
     ]
    }
   ],
   "source": [
    "print('Shape of the raw data (X): {}'.format (X.shape))\n",
    "print('Shape of the TARGET variable (y): {}'.format (y.shape))\n",
    "\n",
    "print('\\nShape of the Train data (X_train): {}'.format (X_train.shape))\n",
    "print('Shape of the Train data (y_train): {}'.format (y_train.shape))\n",
    "\n",
    "print('\\nShape of the Test data (X_test): {}'.format (X_test.shape))\n",
    "print('Shape of the Test data (y_test): {}'.format (y_test.shape))"
   ]
  },
  {
   "cell_type": "code",
   "execution_count": 16,
   "metadata": {},
   "outputs": [
    {
     "name": "stdout",
     "output_type": "stream",
     "text": [
      "\n",
      "Figures of merit Model for TRAIN set: \n",
      "\n",
      "MAE: 0.359\n",
      "MSE: 0.227\n",
      "RMSE: 0.477\n",
      "R2: 0.571\n",
      "\n",
      "Figures of merit Model for TEST set: \n",
      "\n",
      "MAE: 0.378\n",
      "MSE: 0.275\n",
      "RMSE: 0.524\n",
      "R2: 0.297\n"
     ]
    }
   ],
   "source": [
    "# Performance metrics for TRAIN\n",
    "MAE_train = metrics.mean_absolute_error(y_train, y_predTrain)\n",
    "MSE_train = metrics.mean_squared_error(y_train, y_predTrain)\n",
    "RMSE_train = np.sqrt(metrics.mean_squared_error(y_train, y_predTrain))\n",
    "R2_train = r2_score(y_train, y_predTrain)\n",
    "\n",
    "# Performance metrics for TEST\n",
    "\n",
    "MAE_test = metrics.mean_absolute_error(y_test, y_pred)\n",
    "MSE_test = metrics.mean_squared_error(y_test, y_pred)\n",
    "RMSE_test = np.sqrt(metrics.mean_squared_error(y_test, y_pred))\n",
    "R2_test = r2_score(y_test, y_pred)\n",
    "\n",
    "\n",
    "print('\\nFigures of merit Model for TRAIN set: \\n')\n",
    "print('MAE:', round(MAE_train,3))\n",
    "print('MSE:', round(MSE_train,3))\n",
    "print('RMSE:', round(RMSE_train,3))\n",
    "print('R2:', round(R2_train,3))\n",
    "\n",
    "print('\\nFigures of merit Model for TEST set: \\n')\n",
    "print('MAE:', round(MAE_test,3))\n",
    "print('MSE:', round(MSE_test,3))\n",
    "print('RMSE:', round(RMSE_test,3))\n",
    "print('R2:', round(R2_test,3))"
   ]
  },
  {
   "cell_type": "markdown",
   "metadata": {},
   "source": [
    "**LINEAR REGRESSION WITH ONLY GDP VARIABLE:**"
   ]
  },
  {
   "cell_type": "code",
   "execution_count": 17,
   "metadata": {},
   "outputs": [],
   "source": [
    "X0 = countries_waste_model.drop(['WasteLog','region'], axis=1)\n",
    "y0 = countries_waste_model.WasteLog\n",
    "\n",
    "X_train0, X_test0, y_train0, y_test0 =train_test_split(X0,y0,test_size=0.3,random_state=42)\n"
   ]
  },
  {
   "cell_type": "code",
   "execution_count": 18,
   "metadata": {},
   "outputs": [
    {
     "data": {
      "text/html": [
       "<div>\n",
       "<style scoped>\n",
       "    .dataframe tbody tr th:only-of-type {\n",
       "        vertical-align: middle;\n",
       "    }\n",
       "\n",
       "    .dataframe tbody tr th {\n",
       "        vertical-align: top;\n",
       "    }\n",
       "\n",
       "    .dataframe thead th {\n",
       "        text-align: right;\n",
       "    }\n",
       "</style>\n",
       "<table border=\"1\" class=\"dataframe\">\n",
       "  <thead>\n",
       "    <tr style=\"text-align: right;\">\n",
       "      <th></th>\n",
       "      <th>gdp_inhab_log</th>\n",
       "    </tr>\n",
       "  </thead>\n",
       "  <tbody>\n",
       "    <tr>\n",
       "      <td>0</td>\n",
       "      <td>10.488395</td>\n",
       "    </tr>\n",
       "    <tr>\n",
       "      <td>1</td>\n",
       "      <td>6.427928</td>\n",
       "    </tr>\n",
       "    <tr>\n",
       "      <td>2</td>\n",
       "      <td>8.320424</td>\n",
       "    </tr>\n",
       "    <tr>\n",
       "      <td>3</td>\n",
       "      <td>8.450481</td>\n",
       "    </tr>\n",
       "    <tr>\n",
       "      <td>4</td>\n",
       "      <td>10.603503</td>\n",
       "    </tr>\n",
       "    <tr>\n",
       "      <td>...</td>\n",
       "      <td>...</td>\n",
       "    </tr>\n",
       "    <tr>\n",
       "      <td>210</td>\n",
       "      <td>8.283431</td>\n",
       "    </tr>\n",
       "    <tr>\n",
       "      <td>211</td>\n",
       "      <td>6.071638</td>\n",
       "    </tr>\n",
       "    <tr>\n",
       "      <td>212</td>\n",
       "      <td>9.004981</td>\n",
       "    </tr>\n",
       "    <tr>\n",
       "      <td>213</td>\n",
       "      <td>7.547702</td>\n",
       "    </tr>\n",
       "    <tr>\n",
       "      <td>214</td>\n",
       "      <td>7.078738</td>\n",
       "    </tr>\n",
       "  </tbody>\n",
       "</table>\n",
       "<p>215 rows × 1 columns</p>\n",
       "</div>"
      ],
      "text/plain": [
       "     gdp_inhab_log\n",
       "0        10.488395\n",
       "1         6.427928\n",
       "2         8.320424\n",
       "3         8.450481\n",
       "4        10.603503\n",
       "..             ...\n",
       "210       8.283431\n",
       "211       6.071638\n",
       "212       9.004981\n",
       "213       7.547702\n",
       "214       7.078738\n",
       "\n",
       "[215 rows x 1 columns]"
      ]
     },
     "execution_count": 18,
     "metadata": {},
     "output_type": "execute_result"
    }
   ],
   "source": [
    "X0"
   ]
  },
  {
   "cell_type": "code",
   "execution_count": 19,
   "metadata": {},
   "outputs": [
    {
     "data": {
      "text/plain": [
       "LinearRegression(copy_X=True, fit_intercept=True, n_jobs=None, normalize=False)"
      ]
     },
     "execution_count": 19,
     "metadata": {},
     "output_type": "execute_result"
    }
   ],
   "source": [
    "from sklearn.linear_model import LinearRegression\n",
    "mReg = LinearRegression()\n",
    "mReg.fit(X_train0, y_train0)"
   ]
  },
  {
   "cell_type": "code",
   "execution_count": 20,
   "metadata": {},
   "outputs": [],
   "source": [
    "y_pred0 = mReg.predict(X_test0)\n",
    "y_pred0 = np.round_(y_pred0)\n",
    "\n",
    "y_predTrain0 = mReg.predict(X_train0)"
   ]
  },
  {
   "cell_type": "code",
   "execution_count": 21,
   "metadata": {},
   "outputs": [
    {
     "name": "stdout",
     "output_type": "stream",
     "text": [
      "Shape of the raw data (X0): (215, 1)\n",
      "Shape of the TARGET variable (y0): (215,)\n",
      "\n",
      "Shape of the Train data (X_train0): (150, 1)\n",
      "Shape of the Train data (y_train0): (150,)\n",
      "\n",
      "Shape of the Test data (X_test0): (65, 1)\n",
      "Shape of the Test data (y_test0): (65,)\n"
     ]
    }
   ],
   "source": [
    "print('Shape of the raw data (X0): {}'.format (X0.shape))\n",
    "print('Shape of the TARGET variable (y0): {}'.format (y0.shape))\n",
    "\n",
    "print('\\nShape of the Train data (X_train0): {}'.format (X_train0.shape))\n",
    "print('Shape of the Train data (y_train0): {}'.format (y_train0.shape))\n",
    "\n",
    "print('\\nShape of the Test data (X_test0): {}'.format (X_test0.shape))\n",
    "print('Shape of the Test data (y_test0): {}'.format (y_test0.shape))"
   ]
  },
  {
   "cell_type": "code",
   "execution_count": 22,
   "metadata": {},
   "outputs": [
    {
     "name": "stdout",
     "output_type": "stream",
     "text": [
      "\n",
      "Figures of linear regression Model only with GDP variable for TRAIN set: \n",
      "\n",
      "MAE_0: 0.359\n",
      "MSE_0: 0.227\n",
      "RMSE_0: 0.477\n",
      "R2_0: 0.571\n",
      "\n",
      "Figures of linear regression Model only with GDP variable for TEST set: \n",
      "\n",
      "MAE_0: 0.378\n",
      "MSE_0: 0.275\n",
      "RMSE_0: 0.524\n",
      "R2_0: 0.297\n"
     ]
    }
   ],
   "source": [
    "# Performance metrics for TRAIN\n",
    "MAE_train_0 = metrics.mean_absolute_error(y_train0, y_predTrain0)\n",
    "MSE_train_0 = metrics.mean_squared_error(y_train0, y_predTrain0)\n",
    "RMSE_train_0 = np.sqrt(metrics.mean_squared_error(y_train0, y_predTrain0))\n",
    "R2_train_0 = r2_score(y_train0, y_predTrain0)\n",
    "\n",
    "# Performance metrics for TEST\n",
    "\n",
    "MAE_test_0 = metrics.mean_absolute_error(y_test0, y_pred0)\n",
    "MSE_test_0 = metrics.mean_squared_error(y_test0, y_pred0)\n",
    "RMSE_test_0 = np.sqrt(metrics.mean_squared_error(y_test0, y_pred0))\n",
    "R2_test_0 = r2_score(y_test0, y_pred0)\n",
    "\n",
    "\n",
    "print('\\nFigures of linear regression Model only with GDP variable for TRAIN set: \\n')\n",
    "print('MAE_0:', round(MAE_train,3))\n",
    "print('MSE_0:', round(MSE_train,3))\n",
    "print('RMSE_0:', round(RMSE_train,3))\n",
    "print('R2_0:', round(R2_train,3))\n",
    "\n",
    "print('\\nFigures of linear regression Model only with GDP variable for TEST set: \\n')\n",
    "print('MAE_0:', round(MAE_test,3))\n",
    "print('MSE_0:', round(MSE_test,3))\n",
    "print('RMSE_0:', round(RMSE_test,3))\n",
    "print('R2_0:', round(R2_test,3))"
   ]
  },
  {
   "cell_type": "code",
   "execution_count": 23,
   "metadata": {},
   "outputs": [
    {
     "data": {
      "image/png": "[encoded data removed]",
      "text/plain": [
       "<Figure size 1296x360 with 2 Axes>"
      ]
     },
     "metadata": {
      "needs_background": "light"
     },
     "output_type": "display_data"
    }
   ],
   "source": [
    "from scipy import stats\n",
    "\n",
    "# Let's first calculate the residuals\n",
    "y_pred = pd.DataFrame(y_pred)\n",
    "y_test = y_test.reset_index(drop=True)\n",
    "residuals = y_test - y_pred[0]\n",
    "\n",
    "# Plot the residuals\n",
    "plt.figure(figsize=(18, 5))\n",
    "plt.subplot(1,2,1)\n",
    "plt.axhline(0, color=\"blue\")\n",
    "plt.title('Plot of Residuals')\n",
    "plt.scatter(residuals.index,residuals, s=20)\n",
    "\n",
    "# Plot the Probability plot\n",
    "plt.subplot(1,2,2)\n",
    "plt.title('Probability Plot')\n",
    "stats.probplot(residuals, dist='norm',plot=plt)\n",
    "plt.show()"
   ]
  },
  {
   "cell_type": "code",
   "execution_count": 24,
   "metadata": {},
   "outputs": [
    {
     "data": {
      "image/png": "[encoded data removed]",
      "text/plain": [
       "<Figure size 1296x360 with 2 Axes>"
      ]
     },
     "metadata": {
      "needs_background": "light"
     },
     "output_type": "display_data"
    }
   ],
   "source": [
    "# Let's first calculate the residuals\n",
    "y_pred0 = pd.DataFrame(y_pred0)\n",
    "y_test0 = y_test0.reset_index(drop=True)\n",
    "residuals0 = y_test0 - y_pred0[0]\n",
    "\n",
    "# Plot the residuals\n",
    "plt.figure(figsize=(18, 5))\n",
    "plt.subplot(1,2,1)\n",
    "plt.axhline(0, color=\"blue\")\n",
    "plt.title('Plot of Residuals 0')\n",
    "plt.scatter(residuals.index,residuals, s=20)\n",
    "\n",
    "# Plot the Probability plot\n",
    "plt.subplot(1,2,2)\n",
    "plt.title('Probability Plot 0')\n",
    "stats.probplot(residuals, dist='norm',plot=plt)\n",
    "plt.show()"
   ]
  },
  {
   "cell_type": "code",
   "execution_count": null,
   "metadata": {},
   "outputs": [],
   "source": []
  }
 ],
 "metadata": {
  "kernelspec": {
   "display_name": "Python 3",
   "language": "python",
   "name": "python3"
  },
  "language_info": {
   "codemirror_mode": {
    "name": "ipython",
    "version": 3
   },
   "file_extension": ".py",
   "mimetype": "text/x-python",
   "name": "python",
   "nbconvert_exporter": "python",
   "pygments_lexer": "ipython3",
   "version": "3.7.4"
  }
 },
 "nbformat": 4,
 "nbformat_minor": 2
}
